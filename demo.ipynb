{
 "cells": [
  {
   "cell_type": "code",
   "execution_count": 12,
   "metadata": {},
   "outputs": [
    {
     "data": {
      "text/plain": "[<matplotlib.lines.Line2D at 0x7f871eb67978>]"
     },
     "execution_count": 12,
     "metadata": {},
     "output_type": "execute_result"
    },
    {
     "data": {
      "text/plain": "<Figure size 432x288 with 1 Axes>",
      "image/png": "[encoded data removed]"
     },
     "metadata": {},
     "output_type": "display_data"
    }
   ],
   "source": [
    "import matplotlib.pyplot as plt\n",
    "\n",
    "f = lambda x: x / 5 + 10\n",
    "g = lambda x: (x // 10 + 4) * 4\n",
    "\n",
    "x = list(range(1, 100))\n",
    "plt.plot(x, [f(i) for i in x])  #s-:方形\n",
    "plt.plot(x, [g(i) for i in x])  #s-:方形\n"
   ]
  },
  {
   "cell_type": "code",
   "execution_count": 20,
   "metadata": {},
   "outputs": [
    {
     "name": "stdout",
     "output_type": "stream",
     "text": [
      "15.0 10.0\n",
      "12.0 10.2\n",
      "12.0 10.4\n",
      "12.0 10.6\n",
      "12.0 10.8\n",
      "12.0 11.0\n",
      "12.0 11.2\n",
      "12.0 11.4\n",
      "12.0 11.6\n",
      "12.0 11.8\n",
      "15.0 12.0\n",
      "15.0 12.2\n",
      "15.0 12.4\n",
      "15.0 12.6\n",
      "15.0 12.8\n",
      "15.0 13.0\n",
      "15.0 13.2\n",
      "15.0 13.4\n",
      "15.0 13.6\n",
      "15.0 13.8\n",
      "18.0 14.0\n",
      "18.0 14.2\n",
      "18.0 14.4\n",
      "18.0 14.6\n",
      "18.0 14.8\n",
      "18.0 15.0\n",
      "18.0 15.2\n",
      "18.0 15.4\n",
      "18.0 15.6\n",
      "18.0 15.8\n",
      "21.0 16.0\n",
      "21.0 16.2\n",
      "21.0 16.4\n",
      "21.0 16.6\n",
      "21.0 16.8\n",
      "21.0 17.0\n",
      "21.0 17.2\n",
      "21.0 17.4\n",
      "21.0 17.6\n",
      "21.0 17.8\n",
      "24.0 18.0\n",
      "24.0 18.2\n",
      "24.0 18.4\n",
      "24.0 18.6\n",
      "24.0 18.8\n",
      "24.0 19.0\n",
      "24.0 19.2\n",
      "24.0 19.4\n",
      "24.0 19.6\n",
      "24.0 19.8\n",
      "27.0 20.0\n",
      "27.0 20.2\n",
      "27.0 20.4\n",
      "27.0 20.6\n",
      "27.0 20.8\n",
      "27.0 21.0\n",
      "27.0 21.2\n",
      "27.0 21.4\n",
      "27.0 21.6\n",
      "27.0 21.8\n",
      "30.0 22.0\n",
      "30.0 22.2\n",
      "30.0 22.4\n",
      "30.0 22.6\n",
      "30.0 22.8\n",
      "30.0 23.0\n",
      "30.0 23.2\n",
      "30.0 23.4\n",
      "30.0 23.6\n",
      "30.0 23.8\n",
      "33.0 24.0\n",
      "33.0 24.2\n",
      "33.0 24.4\n",
      "33.0 24.6\n",
      "33.0 24.8\n",
      "33.0 25.0\n",
      "33.0 25.2\n",
      "33.0 25.4\n",
      "33.0 25.6\n",
      "33.0 25.8\n",
      "36.0 26.0\n",
      "36.0 26.2\n",
      "36.0 26.4\n",
      "36.0 26.6\n",
      "36.0 26.8\n",
      "36.0 27.0\n",
      "36.0 27.2\n",
      "36.0 27.4\n",
      "36.0 27.6\n",
      "36.0 27.8\n",
      "39.0 28.0\n",
      "39.0 28.2\n",
      "39.0 28.4\n",
      "39.0 28.6\n",
      "39.0 28.8\n",
      "39.0 29.0\n",
      "39.0 29.2\n",
      "39.0 29.4\n",
      "39.0 29.6\n",
      "39.0 29.8\n"
     ]
    }
   ],
   "source": [
    "cur_list = [4]\n",
    "\n",
    "\n",
    "def h(x, cur):\n",
    "    cur += g(x)\n",
    "    cur *= 0.75\n",
    "    print(cur, f(x))\n",
    "    if cur >= f(x):\n",
    "        cur = 0\n",
    "    else:\n",
    "        if (cur - 3) > 0:\n",
    "            cur -= 3\n",
    "        if (cur - 3) > 0:\n",
    "            cur -= 3\n",
    "    cur_list.append(cur)\n",
    "\n",
    "\n",
    "for i in range(100):\n",
    "    cur = cur_list[-1]\n",
    "    h(i, cur)\n"
   ]
  },
  {
   "cell_type": "code",
   "execution_count": 21,
   "metadata": {},
   "outputs": [
    {
     "data": {
      "text/plain": "[<matplotlib.lines.Line2D at 0x7f871f16dc18>]"
     },
     "execution_count": 21,
     "metadata": {},
     "output_type": "execute_result"
    },
    {
     "data": {
      "text/plain": "<Figure size 432x288 with 1 Axes>",
      "image/png": "[encoded data removed]"
     },
     "metadata": {},
     "output_type": "display_data"
    }
   ],
   "source": [
    "x = list(range(1, 100))\n",
    "plt.plot(range(len(cur_list)), cur_list)  #s-:方形"
   ]
  },
  {
   "cell_type": "code",
   "execution_count": 13,
   "outputs": [],
   "source": [],
   "metadata": {
    "collapsed": false,
    "pycharm": {
     "name": "#%%\n"
    }
   }
  },
  {
   "cell_type": "code",
   "execution_count": null,
   "outputs": [],
   "source": [],
   "metadata": {
    "collapsed": false,
    "pycharm": {
     "name": "#%%\n"
    }
   }
  }
 ],
 "metadata": {
  "interpreter": {
   "hash": "aee8b7b246df8f9039afb4144a1f6fd8d2ca17a180786b69acc140d282b71a49"
  },
  "kernelspec": {
   "display_name": "Python 3.9.7 64-bit",
   "language": "python",
   "name": "python3"
  },
  "language_info": {
   "codemirror_mode": {
    "name": "ipython",
    "version": 3
   },
   "file_extension": ".py",
   "mimetype": "text/x-python",
   "name": "python",
   "nbconvert_exporter": "python",
   "pygments_lexer": "ipython3",
   "version": "3.9.7"
  },
  "orig_nbformat": 4
 },
 "nbformat": 4,
 "nbformat_minor": 2
}